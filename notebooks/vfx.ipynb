{
 "cells": [
  {
   "cell_type": "code",
   "execution_count": 1,
   "metadata": {},
   "outputs": [
    {
     "name": "stdout",
     "output_type": "stream",
     "text": [
      "Importing the dtw module. When using in academic works please cite:\n",
      "  T. Giorgino. Computing and Visualizing Dynamic Time Warping Alignments in R: The dtw Package.\n",
      "  J. Stat. Soft., doi:10.18637/jss.v031.i07.\n",
      "\n"
     ]
    }
   ],
   "source": [
    "import sys\n",
    "sys.path.insert(0, '../ContentGeneration')\n",
    "\n",
    "import reddit\n",
    "import shorts\n",
    "import captions\n",
    "import videoscript\n",
    "import random\n",
    "import moviepy.editor as mpe\n",
    "import moviepy.video.fx.all as vfx\n",
    "import json\n",
    "import os\n",
    "from dotenv import load_dotenv\n",
    "load_dotenv()\n",
    "\n",
    "MUSIC_PATH = os.getenv(\"MUSIC_PATH\")\n",
    "VOICEOVER_PATH = os.getenv(\"VOICEOVER_PATH\")\n",
    "CLIPS_FOLDER = os.getenv(\"CLIPS_DIR\")\n",
    "WATER_MARK_PATH = os.getenv(\"WATER_MARK_PATH\")\n",
    "ENDCARD_PATH = os.getenv(\"ENDCARD_PATH\")\n",
    "SAVE_PATH = os.getenv(\"SAVE_PATH\")\n",
    "SFX_PATH = os.getenv(\"SFX_PATH\")\n",
    "VFX_FOLDER = os.getenv(\"VFX_FOLDER\")\n",
    "ENGAGEMENT_FOLDER = os.getenv(\"ENGAGEMENT_FOLDER\")\n",
    "INTROS_FOLDER = os.getenv(\"INTROS_FOLDER\")\n",
    "GAUSS_FOLDER = os.getenv(\"GAUSS_FOLDER\")\n",
    "EX_VID_PATH = os.getenv(\"EX_VID_PATH\")\n",
    "BROLL_FOLDER = os.getenv(\"BROLL_FOLDER\")\n",
    "SAVENAME = os.getenv(\"SAVENAME\")"
   ]
  },
  {
   "cell_type": "code",
   "execution_count": 9,
   "metadata": {},
   "outputs": [
    {
     "name": "stderr",
     "output_type": "stream",
     "text": [
      "100%|██████████| 5780/5780 [00:18<00:00, 314.29frames/s]\n"
     ]
    }
   ],
   "source": [
    "# Get Voiceover and Clips Video\n",
    "[audio, dur] = shorts.get_voiceover(VOICEOVER_PATH, MUSIC_PATH)\n",
    "new_vid = shorts.make_video(dur, CLIPS_FOLDER, 4)\n",
    "h = new_vid.h\n",
    "vid_duration = new_vid.duration\n",
    "\n",
    "# Add Intro\n",
    "intros_files = os.listdir(INTROS_FOLDER)\n",
    "random_intro = random.choice(intros_files)\n",
    "intro = mpe.VideoFileClip(os.path.join(INTROS_FOLDER, random_intro)).resize(height=h)\n",
    "masked_intro = mpe.vfx.mask_color(intro, color=[255,0,0], thr=200, s=3)\n",
    "intro_duration = masked_intro.duration\n",
    "\n",
    "# Add Clip Art\n",
    "clipart_files = os.listdir(GAUSS_FOLDER)\n",
    "random_clipart1 = random.choice(clipart_files)\n",
    "clipart1 = mpe.VideoFileClip(os.path.join(GAUSS_FOLDER, random_clipart1)).resize(height=h)\n",
    "masked_cliparts1 = mpe.vfx.mask_color(clipart1, color=[255,0,0], thr=200, s=3).set_start(masked_intro.duration + 10)\n",
    "clipart1_duration = masked_cliparts1.duration\n",
    "\n",
    "# Add Clip Art\n",
    "clipart_files = os.listdir(GAUSS_FOLDER)\n",
    "random_clipart2 = random.choice(clipart_files)\n",
    "clipart2 = mpe.VideoFileClip(os.path.join(GAUSS_FOLDER, random_clipart2)).resize(height=h)\n",
    "masked_cliparts2 = mpe.vfx.mask_color(clipart2, color=[255,0,0], thr=200, s=3).set_start(masked_cliparts1.start + 10)\n",
    "clipart2_duration = masked_cliparts2.duration\n",
    "\n",
    "# Add Broll\n",
    "broll_files = os.listdir(BROLL_FOLDER)\n",
    "random_broll = random.choice(broll_files)\n",
    "broll1 = mpe.VideoFileClip(os.path.join(BROLL_FOLDER, random_broll)).resize(height=h).set_start(masked_cliparts2.start + 10)\n",
    "broll_duration = broll1.duration\n",
    "\n",
    "# Add Clip Art\n",
    "clipart_files = os.listdir(GAUSS_FOLDER)\n",
    "random_clipart3 = random.choice(clipart_files)\n",
    "clipart3 = mpe.VideoFileClip(os.path.join(GAUSS_FOLDER, random_clipart3)).resize(height=h)\n",
    "masked_cliparts3 = mpe.vfx.mask_color(clipart3, color=[255,0,0], thr=200, s=3).set_start(broll1.start + 2)\n",
    "clipart3_duration = masked_cliparts3.duration\n",
    "\n",
    "\n",
    "# Add Clip Art\n",
    "clipart_files = os.listdir(GAUSS_FOLDER)\n",
    "random_clipart4 = random.choice(clipart_files)\n",
    "clipart4 = mpe.VideoFileClip(os.path.join(GAUSS_FOLDER, random_clipart4)).resize(height=h)\n",
    "masked_cliparts4 = mpe.vfx.mask_color(clipart4, color=[255,0,0], thr=200, s=3).set_start(masked_cliparts3.start + 6)\n",
    "clipart4_duration = masked_cliparts4.duration\n",
    "\n",
    "# Add Broll\n",
    "broll_files = os.listdir(BROLL_FOLDER)\n",
    "random_broll = random.choice(broll_files)\n",
    "broll2 = mpe.VideoFileClip(os.path.join(BROLL_FOLDER, random_broll)).resize(height=h).set_start(masked_cliparts4.start + 5)\n",
    "broll2_duration = broll2.duration\n",
    "\n",
    "if False:\n",
    "    # Add Engagment\n",
    "    engagement_files = os.listdir(ENGAGEMENT_FOLDER)\n",
    "    random_engagement = random.choice(engagement_files)\n",
    "    engagement = mpe.VideoFileClip(os.path.join(ENGAGEMENT_FOLDER, random_engagement)).resize(height=h)\n",
    "    masked_engagement = mpe.vfx.mask_color(engagement, color=[255,0,0], thr=200, s=3).set_start(intro_duration + 4 + broll_duration + 3 + clipart1_duration + 3)\n",
    "\n",
    "\n",
    "edited_video = mpe.CompositeVideoClip([new_vid, broll1, masked_cliparts1, masked_cliparts2, broll1, masked_cliparts3, masked_cliparts4, broll2])\n",
    "edited_video = edited_video.set_duration(vid_duration).set_audio(audio)\n",
    "transcription = captions.make_transcription(VOICEOVER_PATH)\n",
    "subtitles = captions.make_timestamps(transcription)\n",
    "withcaptions = captions.overlay_video(edited_video, subtitles, WATER_MARK_PATH, ENDCARD_PATH, colored=True, animate=True, font_name='AvenirNext-Bold', fnt_sz=70)"
   ]
  },
  {
   "cell_type": "code",
   "execution_count": 10,
   "metadata": {},
   "outputs": [
    {
     "name": "stdout",
     "output_type": "stream",
     "text": [
      "Moviepy - Building video c:\\Users\\eimat\\Documents\\PassiveIncome\\ModernEncyclopedia\\Videos\\Videos\\7v0z9e.mp4.\n",
      "MoviePy - Writing audio in 7v0z9eTEMP_MPY_wvf_snd.mp4\n"
     ]
    },
    {
     "name": "stderr",
     "output_type": "stream",
     "text": [
      "chunk:   0%|          | 0/1275 [00:00<?, ?it/s, now=None]"
     ]
    },
    {
     "name": "stderr",
     "output_type": "stream",
     "text": [
      "                                                                     \r"
     ]
    },
    {
     "name": "stdout",
     "output_type": "stream",
     "text": [
      "MoviePy - Done.\n",
      "Moviepy - Writing video c:\\Users\\eimat\\Documents\\PassiveIncome\\ModernEncyclopedia\\Videos\\Videos\\7v0z9e.mp4\n",
      "\n"
     ]
    },
    {
     "name": "stderr",
     "output_type": "stream",
     "text": [
      "                                                                \r"
     ]
    },
    {
     "name": "stdout",
     "output_type": "stream",
     "text": [
      "Moviepy - Done !\n",
      "Moviepy - video ready c:\\Users\\eimat\\Documents\\PassiveIncome\\ModernEncyclopedia\\Videos\\Videos\\7v0z9e.mp4\n"
     ]
    }
   ],
   "source": [
    "withcaptions.write_videofile(f'{SAVE_PATH}\\\\{SAVENAME}.mp4', audio_codec= 'aac', threads = 8, fps=24)"
   ]
  },
  {
   "cell_type": "code",
   "execution_count": null,
   "metadata": {},
   "outputs": [],
   "source": []
  }
 ],
 "metadata": {
  "kernelspec": {
   "display_name": "ContentGeneration",
   "language": "python",
   "name": "python3"
  },
  "language_info": {
   "codemirror_mode": {
    "name": "ipython",
    "version": 3
   },
   "file_extension": ".py",
   "mimetype": "text/x-python",
   "name": "python",
   "nbconvert_exporter": "python",
   "pygments_lexer": "ipython3",
   "version": "3.8.18"
  }
 },
 "nbformat": 4,
 "nbformat_minor": 2
}
