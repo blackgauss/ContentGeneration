{
 "cells": [
  {
   "cell_type": "code",
   "execution_count": 4,
   "metadata": {},
   "outputs": [],
   "source": [
    "import moviepy.editor as mpe\n",
    "import pydub\n",
    "import os\n",
    "import random"
   ]
  },
  {
   "cell_type": "code",
   "execution_count": 3,
   "metadata": {},
   "outputs": [],
   "source": [
    "TEST_ID = '7nuedz2'\n",
    "TEST_ID2 = '75p8dn'\n",
    "TEST_ID3 = '8zlzuy'\n",
    "TEST_ID4 = 'd7qi0y'\n",
    "TEST_ID5 = 'mhkbe3'\n",
    "TEST_ID6 = '85kaz5'"
   ]
  },
  {
   "cell_type": "code",
   "execution_count": 13,
   "metadata": {},
   "outputs": [],
   "source": [
    "def get_file_names(folder, file_type='.mp4'):\n",
    "    folder_path = folder\n",
    "    file_names = []\n",
    "    \n",
    "    for file in os.listdir(folder_path):\n",
    "        if file.endswith(file_type):\n",
    "            file_name = os.path.splitext(os.path.basename(file))[0]\n",
    "            file_names.append(file_name)\n",
    "    \n",
    "    return file_names\n",
    "\n",
    "\n",
    "def get_voiceover(id):\n",
    "    sound1 = pydub.AudioSegment.from_mp3(f\"../videos/voiceovers/{id}.mp3\")\n",
    "    sound2 = pydub.AudioSegment.from_mp3(\"../videos/music/september.mp3\") - 5\n",
    "\n",
    "    # mix sound2 with sound1, starting at 5000ms into sound1)\n",
    "    output = sound1.overlay(sound2, position=0)\n",
    "    # save the result\n",
    "    output.export(\"mixed_sounds.mp3\", format=\"mp3\")\n",
    "\n",
    "    return [output, len(output) / 1000]\n",
    "\n",
    "\n",
    "def get_voiceover2(id, file_path):\n",
    "    sound1 = mpe.AudioFileClip(f\"{file_path}{id}.mp3\")\n",
    "    sound2 = mpe.AudioFileClip(\"../videos/music/september.mp3\").volumex(0.3)\n",
    "\n",
    "    dur = sound1.duration\n",
    "\n",
    "    final_audio = mpe.CompositeAudioClip([sound1, sound2]).subclip(0, dur)\n",
    "\n",
    "    return [final_audio, dur]\n",
    "\n",
    "\n",
    "def make_video(duration, clips_folder, clip_length=5):\n",
    "    hooks_paths = get_file_names(\"../videos/stock_video/hooks\")\n",
    "    hook_names = random.sample(hooks_paths, 2)\n",
    "    hooks = [mpe.VideoFileClip(f\"../videos/stock_video/hooks/{hook_name}.mp4\") for hook_name in hook_names]\n",
    "    vids = get_file_names(clips_folder)\n",
    "    clip_paths = [f\"{clips_folder}/{vid}.mp4\" for vid in vids]\n",
    "    clips = [mpe.VideoFileClip(clip_path) for clip_path in clip_paths]\n",
    "    total_dur = 0\n",
    "    order = random.sample(clips, len(clips))\n",
    "    new_clips = []\n",
    "    while total_dur < duration:\n",
    "        for clip in order:\n",
    "            new_clip = clip.copy().without_audio().fx(mpe.vfx.speedx, 2)\n",
    "            end = min(clip_length, new_clip.duration)\n",
    "            if clip_length < new_clip.duration:\n",
    "                new_clip = new_clip.copy().subclip(0, end)\n",
    "            new_clips.append(new_clip)\n",
    "            total_dur += end\n",
    "    final_video = mpe.concatenate_videoclips([hooks[0].set_duration(4)] + new_clips, method='compose')\n",
    "    return final_video.subclip(0, min(final_video.duration, duration))\n",
    "\n",
    "\n",
    "def add_avatar(video, avatar_path):\n",
    "    avatar = mpe.ImageClip(avatar_path).set_duration(video.duration)\n",
    "    avatar = avatar.resize(height=video.h / 4)\n",
    "    avatar = avatar.set_position((video.w - avatar.w - (2 * avatar.w), 4 * avatar.w))\n",
    "    return mpe.CompositeVideoClip([video, avatar])"
   ]
  },
  {
   "cell_type": "code",
   "execution_count": 28,
   "metadata": {},
   "outputs": [
    {
     "data": {
      "text/plain": [
       "['../videos/stock_video/Cute/bush_baby.mp4',\n",
       " '../videos/stock_video/Cute/cute_puppies.mp4',\n",
       " '../videos/stock_video/Cute/fully_white_puppy.mp4',\n",
       " '../videos/stock_video/Cute/little_kitten.mp4',\n",
       " '../videos/stock_video/Cute/little_rabbit.mp4',\n",
       " '../videos/stock_video/Cute/piglets.mp4',\n",
       " '../videos/stock_video/Cute/puppy_sink_bath.mp4',\n",
       " '../videos/stock_video/Cute/silly_animals.mp4',\n",
       " '../videos/stock_video/Cute/tilted_head_puppy.mp4']"
      ]
     },
     "execution_count": 28,
     "metadata": {},
     "output_type": "execute_result"
    }
   ],
   "source": [
    "[f\"{CLIPS_FOLDER}/{name}.mp4\" for name in get_file_names(CLIPS_FOLDER, '.mp4')]"
   ]
  },
  {
   "cell_type": "code",
   "execution_count": 16,
   "metadata": {},
   "outputs": [
    {
     "data": {
      "text/plain": [
       "['7jpnjl', '7sewfa', '7xmrjn', '7yx524', '908y52', 'bmzivx']"
      ]
     },
     "execution_count": 16,
     "metadata": {},
     "output_type": "execute_result"
    }
   ],
   "source": [
    "script_names = get_file_names('../videos/voiceovers2', '.mp3')\n",
    "script_names"
   ]
  },
  {
   "cell_type": "code",
   "execution_count": null,
   "metadata": {},
   "outputs": [],
   "source": [
    "[audio, dur] = get_voiceover2('m98m4q', '../videos/voiceovers2/')\n",
    "final_clip = make_video(dur, CLIPS_FOLDER, 8)\n",
    "final_clip.set_audio(audio).write_videofile(file_path, audio_codec='aac')"
   ]
  },
  {
   "cell_type": "code",
   "execution_count": 17,
   "metadata": {},
   "outputs": [
    {
     "name": "stdout",
     "output_type": "stream",
     "text": [
      "7jpnjl already exists.\n",
      "Moviepy - Building video ../videos/raw_videos2/7sewfa.mp4.\n",
      "MoviePy - Writing audio in 7sewfaTEMP_MPY_wvf_snd.mp4\n"
     ]
    },
    {
     "name": "stderr",
     "output_type": "stream",
     "text": [
      "                                                                     \r"
     ]
    },
    {
     "name": "stdout",
     "output_type": "stream",
     "text": [
      "MoviePy - Done.\n",
      "Moviepy - Writing video ../videos/raw_videos2/7sewfa.mp4\n",
      "\n"
     ]
    },
    {
     "name": "stderr",
     "output_type": "stream",
     "text": [
      "                                                                \r"
     ]
    },
    {
     "name": "stdout",
     "output_type": "stream",
     "text": [
      "Moviepy - Done !\n",
      "Moviepy - video ready ../videos/raw_videos2/7sewfa.mp4\n",
      "Moviepy - Building video ../videos/raw_videos2/7xmrjn.mp4.\n",
      "MoviePy - Writing audio in 7xmrjnTEMP_MPY_wvf_snd.mp4\n"
     ]
    },
    {
     "name": "stderr",
     "output_type": "stream",
     "text": [
      "                                                                      \r"
     ]
    },
    {
     "name": "stdout",
     "output_type": "stream",
     "text": [
      "MoviePy - Done.\n",
      "Moviepy - Writing video ../videos/raw_videos2/7xmrjn.mp4\n",
      "\n"
     ]
    },
    {
     "name": "stderr",
     "output_type": "stream",
     "text": [
      "                                                                \r"
     ]
    },
    {
     "name": "stdout",
     "output_type": "stream",
     "text": [
      "Moviepy - Done !\n",
      "Moviepy - video ready ../videos/raw_videos2/7xmrjn.mp4\n",
      "Moviepy - Building video ../videos/raw_videos2/7yx524.mp4.\n",
      "MoviePy - Writing audio in 7yx524TEMP_MPY_wvf_snd.mp4\n"
     ]
    },
    {
     "name": "stderr",
     "output_type": "stream",
     "text": [
      "                                                                    \r"
     ]
    },
    {
     "name": "stdout",
     "output_type": "stream",
     "text": [
      "MoviePy - Done.\n",
      "Moviepy - Writing video ../videos/raw_videos2/7yx524.mp4\n",
      "\n"
     ]
    },
    {
     "name": "stderr",
     "output_type": "stream",
     "text": [
      "                                                                \r"
     ]
    },
    {
     "name": "stdout",
     "output_type": "stream",
     "text": [
      "Moviepy - Done !\n",
      "Moviepy - video ready ../videos/raw_videos2/7yx524.mp4\n",
      "Moviepy - Building video ../videos/raw_videos2/908y52.mp4.\n",
      "MoviePy - Writing audio in 908y52TEMP_MPY_wvf_snd.mp4\n"
     ]
    },
    {
     "name": "stderr",
     "output_type": "stream",
     "text": [
      "                                                                     \r"
     ]
    },
    {
     "name": "stdout",
     "output_type": "stream",
     "text": [
      "MoviePy - Done.\n",
      "Moviepy - Writing video ../videos/raw_videos2/908y52.mp4\n",
      "\n"
     ]
    },
    {
     "name": "stderr",
     "output_type": "stream",
     "text": [
      "                                                                \r"
     ]
    },
    {
     "name": "stdout",
     "output_type": "stream",
     "text": [
      "Moviepy - Done !\n",
      "Moviepy - video ready ../videos/raw_videos2/908y52.mp4\n",
      "Moviepy - Building video ../videos/raw_videos2/bmzivx.mp4.\n",
      "MoviePy - Writing audio in bmzivxTEMP_MPY_wvf_snd.mp4\n"
     ]
    },
    {
     "name": "stderr",
     "output_type": "stream",
     "text": [
      "                                                                    \r"
     ]
    },
    {
     "name": "stdout",
     "output_type": "stream",
     "text": [
      "MoviePy - Done.\n",
      "Moviepy - Writing video ../videos/raw_videos2/bmzivx.mp4\n",
      "\n"
     ]
    },
    {
     "name": "stderr",
     "output_type": "stream",
     "text": [
      "                                                                \r"
     ]
    },
    {
     "name": "stdout",
     "output_type": "stream",
     "text": [
      "Moviepy - Done !\n",
      "Moviepy - video ready ../videos/raw_videos2/bmzivx.mp4\n"
     ]
    }
   ],
   "source": [
    "CLIPS_FOLDER = f\"../videos/stock_video/AweInspring\"\n",
    "for script_id in script_names:    \n",
    "    file_path = f'../videos/raw_videos2/{script_id}.mp4'\n",
    "    if not os.path.exists(file_path):\n",
    "        [audio, dur] = get_voiceover2(script_id, '../videos/voiceovers2/')\n",
    "        final_clip = make_video(dur, CLIPS_FOLDER, 8)\n",
    "        final_clip.set_audio(audio).write_videofile(file_path, audio_codec='aac')\n",
    "    else:\n",
    "        print(f'{script_id} already exists.')\n"
   ]
  },
  {
   "cell_type": "code",
   "execution_count": 16,
   "metadata": {},
   "outputs": [
    {
     "name": "stdout",
     "output_type": "stream",
     "text": [
      "Moviepy - Building video ../videos/raw_videos/85kaz52.mp4.\n",
      "MoviePy - Writing audio in 85kaz52TEMP_MPY_wvf_snd.mp4\n"
     ]
    },
    {
     "name": "stderr",
     "output_type": "stream",
     "text": [
      "                                                                     \r"
     ]
    },
    {
     "name": "stdout",
     "output_type": "stream",
     "text": [
      "MoviePy - Done.\n",
      "Moviepy - Writing video ../videos/raw_videos/85kaz52.mp4\n",
      "\n"
     ]
    },
    {
     "name": "stderr",
     "output_type": "stream",
     "text": [
      "                                                                \r"
     ]
    },
    {
     "name": "stdout",
     "output_type": "stream",
     "text": [
      "Moviepy - Done !\n",
      "Moviepy - video ready ../videos/raw_videos/85kaz52.mp4\n"
     ]
    }
   ],
   "source": [
    "ID = TEST_ID6\n",
    "test = str(2)\n",
    "file_path = f'../videos/raw_videos/{ID}{test}.mp4'\n",
    "[audio, dur] = get_voiceover2(ID)\n",
    "final_clip = make_video(dur, f\"../videos/stock_video/Sciencey\", 5)\n",
    "add_avatar(final_clip, '../videos/assets/gauss_avatar.png').set_audio(audio).write_videofile(file_path, audio_codec='aac')"
   ]
  },
  {
   "cell_type": "code",
   "execution_count": 26,
   "metadata": {},
   "outputs": [
    {
     "name": "stderr",
     "output_type": "stream",
     "text": [
      "t:   0%|          | 2/3867 [1:46:49<3440:29:58, 3204.61s/it, now=None]"
     ]
    },
    {
     "name": "stdout",
     "output_type": "stream",
     "text": [
      "Moviepy - Building video ../videos/raw_videos/85kaz5.mp4.\n",
      "MoviePy - Writing audio in 85kaz5TEMP_MPY_wvf_snd.mp4\n"
     ]
    },
    {
     "name": "stderr",
     "output_type": "stream",
     "text": [
      "t:   0%|          | 2/3867 [1:46:50<3441:21:23, 3205.40s/it, now=None]"
     ]
    },
    {
     "name": "stdout",
     "output_type": "stream",
     "text": [
      "MoviePy - Done.\n",
      "Moviepy - Writing video ../videos/raw_videos/85kaz5.mp4\n",
      "\n"
     ]
    },
    {
     "name": "stderr",
     "output_type": "stream",
     "text": [
      "t:   0%|          | 2/3867 [1:47:30<3462:42:26, 3225.29s/it, now=None]"
     ]
    },
    {
     "name": "stdout",
     "output_type": "stream",
     "text": [
      "Moviepy - Done !\n",
      "Moviepy - video ready ../videos/raw_videos/85kaz5.mp4\n"
     ]
    }
   ],
   "source": [
    "final_clip.set_audio(audio).write_videofile(f'../videos/raw_videos/{ID}.mp4', audio_codec='aac')"
   ]
  },
  {
   "cell_type": "code",
   "execution_count": null,
   "metadata": {},
   "outputs": [],
   "source": []
  }
 ],
 "metadata": {
  "kernelspec": {
   "display_name": "congentGen38",
   "language": "python",
   "name": "python3"
  },
  "language_info": {
   "codemirror_mode": {
    "name": "ipython",
    "version": 3
   },
   "file_extension": ".py",
   "mimetype": "text/x-python",
   "name": "python",
   "nbconvert_exporter": "python",
   "pygments_lexer": "ipython3",
   "version": "3.8.18"
  }
 },
 "nbformat": 4,
 "nbformat_minor": 2
}
