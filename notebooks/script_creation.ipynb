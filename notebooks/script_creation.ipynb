{
 "cells": [
  {
   "cell_type": "code",
   "execution_count": 1,
   "metadata": {},
   "outputs": [],
   "source": [
    "import sys\n",
    "sys.path.insert(0, '../ContentGeneration')\n",
    "import videoscript\n",
    " \n",
    "import json\n",
    "import os\n",
    "from dotenv import load_dotenv\n",
    "load_dotenv()\n",
    "\n",
    "import time\n",
    "import random"
   ]
  },
  {
   "cell_type": "code",
   "execution_count": 2,
   "metadata": {},
   "outputs": [],
   "source": [
    "REFERENCE_DATA_PATH = os.getenv(\"REFERENCE_DATA_PATH\")\n",
    "with open(REFERENCE_DATA_PATH) as file:\n",
    "    posts = json.load(file)\n",
    "\n",
    "example_posts = posts[20:80]"
   ]
  },
  {
   "cell_type": "code",
   "execution_count": 3,
   "metadata": {},
   "outputs": [],
   "source": [
    "topics = [[example_post[0], videoscript.format_script(example_post)] for example_post in example_posts]"
   ]
  },
  {
   "cell_type": "code",
   "execution_count": 4,
   "metadata": {},
   "outputs": [],
   "source": [
    "scores = []\n",
    "for topic in topics:\n",
    "    ranks = []\n",
    "    num_scores = random.choice([1,2,3])\n",
    "    for i in range(num_scores):\n",
    "        score = videoscript.rank_interest(topic[1])\n",
    "        time.sleep(0.1) # I am getting rate limited by the API :(\n",
    "        if score == None:\n",
    "            score = 50\n",
    "        ranks.append(score)\n",
    "    scores.append([topic[0], ranks])"
   ]
  },
  {
   "cell_type": "code",
   "execution_count": 5,
   "metadata": {},
   "outputs": [
    {
     "name": "stdout",
     "output_type": "stream",
     "text": [
      "60\n"
     ]
    },
    {
     "data": {
      "text/plain": [
       "[['85kaz5', 80.0],\n",
       " ['7v0z9e', 85.0],\n",
       " ['7omaq1', 53.333333333333336],\n",
       " ['7ft65h', 75.0],\n",
       " ['7mmz8i', 86.66666666666667],\n",
       " ['6c3t0s', 25.0],\n",
       " ['xxyqgx', 0.0],\n",
       " ['7s57t6', 73.0],\n",
       " ['6uc2os', 71.0],\n",
       " ['7k296s', 87.0],\n",
       " ['458vhd', 0.0],\n",
       " ['6wzxql', 0.0],\n",
       " ['fm2z8x', 81.5],\n",
       " ['imu81a', 43.333333333333336],\n",
       " ['achvtz', 63.333333333333336],\n",
       " ['7bf9w9', 100.0],\n",
       " ['7qbgxo', 59.0],\n",
       " ['5x3wr2', 95.0],\n",
       " ['7pnuq0', 78.0],\n",
       " ['7uhefy', 57.666666666666664],\n",
       " ['fq1rkq', 87.5],\n",
       " ['7kq5r4', 53.333333333333336],\n",
       " ['7sewfa', 40.0],\n",
       " ['emg093', 75.0],\n",
       " ['75ggm6', 48.333333333333336],\n",
       " ['7jpnjl', 60.0],\n",
       " ['74rboo', 71.66666666666667],\n",
       " ['l5fxba', 90.0],\n",
       " ['fpjdw0', 75.0],\n",
       " ['ch9pwm', 82.5],\n",
       " ['6uijoe', 70.0],\n",
       " ['9wex4k', 47.5],\n",
       " ['7xmrjn', 84.33333333333333],\n",
       " ['gtxk7d', 90.33333333333333],\n",
       " ['82rhw8', 47.0],\n",
       " ['7ez85x', 32.0],\n",
       " ['80cpqc', 95.0],\n",
       " ['kcxjhh', 50.0],\n",
       " ['908y52', 87.5],\n",
       " ['6cmj7m', 80.0],\n",
       " ['8ozzuy', 67.5],\n",
       " ['hrsap6', 50.0],\n",
       " ['nzh4j0', 53.0],\n",
       " ['8l8faa', 20.0],\n",
       " ['6mtsdg', 87.66666666666667],\n",
       " ['7n81em', 60.333333333333336],\n",
       " ['6792ez', 8.5],\n",
       " ['6y33j6', 0.0],\n",
       " ['6o9rki', 86.66666666666667],\n",
       " ['6efd2k', 60.0],\n",
       " ['6wdnnw', 21.666666666666668],\n",
       " ['gzb3gy', 56.666666666666664],\n",
       " ['cakca3', 0.0],\n",
       " ['93y26g', 25.0],\n",
       " ['wjshja', 77.5],\n",
       " ['73q2um', 81.66666666666667],\n",
       " ['fb40q7', 0.0],\n",
       " ['g4lzoy', 0.0],\n",
       " ['fdcg3r', 53.0],\n",
       " ['c36ubu', 82.5]]"
      ]
     },
     "execution_count": 5,
     "metadata": {},
     "output_type": "execute_result"
    }
   ],
   "source": [
    "scores\n",
    "computed_scores = []\n",
    "for item in scores:\n",
    "    computed_scores.append([item[0], sum(item[1])/len(item[1])])\n",
    "print(len(computed_scores))\n",
    "computed_scores"
   ]
  },
  {
   "cell_type": "code",
   "execution_count": 6,
   "metadata": {},
   "outputs": [],
   "source": [
    "best_scores_id = []\n",
    "for score in computed_scores:\n",
    "    if score[1] > 90:\n",
    "        best_scores_id.append(score[0])"
   ]
  },
  {
   "cell_type": "code",
   "execution_count": 7,
   "metadata": {},
   "outputs": [
    {
     "name": "stdout",
     "output_type": "stream",
     "text": [
      "['7bf9w9', '--BEGIN QUESTION--\\n\\nIf someone was to cover their eyes for a year straight without seeing any light, would it just be really bright when they take it off then slowly adjust back to normal or would it have a permanent affect on the persons vision?\\\\n\\n--END QUESTION--\\n\\n--BEGIN CONTEXT--\\n\\nEdit: Well I\\'m pretty satisfied with all the answers as they seem to come to similar conclusions. Thanks!\\n\\n--END CONTEXT--\\n\\n--BEGIN ANSWER--\\n\\nTL;DR: No unless the brain is still developing.\\n\\nI just got my degree in Psychology and can answer this in terms of brain development.\\nPermanent loss of vision has not been observed in adults, as u/Moorgan17 stated earlier. Permanent loss of vision has been seen however in young animals. A study was conducted years ago where one of a kitten\\'s eyes was stitched up pretty much right from birth. I believe the eye was kept closed for about a year (at least a couple of months, but I\\'ll double check that). When the eye was opened back up again, the kitten was permanently blind in that eye. I\\'ll try find then start and link it. I\\'m on mobile right now.\\n\\nThis has to do with the Occam\\'s razor effect that developing brains have. This behaviour transcends species and basically means \"If you\\'re not using it, get rid of it\". It\\'s a way of the brain not putting effort into something that doesn\\'t work anymore. It\\'s even been shown that the part of the brain associated with the loss of sight ends up working on some other part of the body (kind of like how blind people have slightly heightened other senses). This is known as brain plasticity.\\n\\nSide note: brain plasticity also works in the opposite way. A young girl had half of her brain removed in an attempt to relieve her of her constant seizures. This left the young girl paralyzed on one half of her body and with several cognitive difficulties too. Over time, however, the half of the brain that was left began to compensate for the lack of brain mass and she began to regain movement in the side of her body affected by the surgery, her language and other cognitive skills. \\n\\nBasically brains are cool. \\n\\nEdit: a video on Jody, the girl with half a brain https://youtu.be/VaDlLD97CLM\\n\\nEdit 2: for those interested in the kitten study, see Hubel, D. H. & Wiesel, T. N. (1964). Effects of Monocular Deprivation in Kittens\\n\\nAs it turns out, the kittens\\' eyes were sutured for only a few weeks, not even months.\\n\\n\\n\\n--END ANSWER--\\n\\n--BEGIN CITATION--\\n\\nhttps://www.reddit.com/r/askscience/comments/7bf9w9/if_someone_was_to_cover_their_eyes_for_a_year/\\n\\nDroppedD94\\n\\n\\n\\n--END CITATION--\\n\\n']\n",
      "['5x3wr2', '--BEGIN QUESTION--\\n\\nThe all-green picture with \"red\" strawberries picture. Do I see red because I know ripe strawberries are red?\\\\n\\n--END QUESTION--\\n\\n--BEGIN CONTEXT--\\n\\nThis picture seems to be popular this week:\\n\\nhttps://i.redditmedia.com/BU23cX5feW7AjHZKnS69Dio9QWDurnRb6A3vx9XZojo.png?w=1024&s=c99d09cef7f72ae2f40c3ae63fd1e53c\\n\\n\\nIf you were to ask someone who has never seen strawberries before, would they still say they look red? (i.e: am I \"seeing\" red because I know strawberries are red?)\\n\\nEDIT: take a look at the comment by /u/KingDavid73 and the image: http://imgur.com/a/y9TGC with only blue & grey pixels\\n\\nhttps://www.reddit.com/r/askscience/comments/5x3wr2/the_allgreen_picture_with_red_strawberries/deff5n3/\\n\\n\\n--END CONTEXT--\\n\\n--BEGIN ANSWER--\\n\\nEDIT: TL;DR view these images I made first: http://imgur.com/a/42m1K\\n\\nTHERE ARE RED PIXELS IN THE IMAGE! Each physical \"pixel\" on your display has 3 channels - red, green, and blue. Something on the screen appears white when the brightness is 100% for all 3 channels. We see black when they are all off, and we see gray when the brightness of each channel is equivalent but less than 100% (for example R:70% G:70% B:70%). We perceive different colors on a phone, computer, TV, etc... when the ratio between the RGB channels changes, and unless the \"pure\" color is being displayed, all 3 RGB channels will all be active. In other words, intensity differences between these 3 channels within a pixel create the perception of different colors. Although something may appear blue, it will actually contain varying degrees of red and green as well. This means that RED LIGHT IS PHYSICALLY EMANATING from your screen in the strawberry image!!! You can verify this yourself by using a strong magnifying glass (a pocket microscope would be best)!\\n\\nThis will help to visualize what I am talking about: http://cdn.bigshotcamera.com/images/learn/LCD/color_pixel.jpg\\nIf this image were actual size, you would see (from left to right) a red, green, and blue rectangle on the top row and a white, followed by black rectangle on the bottom row: https://upload.wikimedia.org/wikipedia/commons/a/a6/LCD_pixels.jpg\\n\\nBut zooming in to the strawberries or sampling the color in photoshop looks grey - why? Well when you zoom an image it gets \"pixelated\" and you begin to see defined squares. Zoom in enough and you can see individual pixels right? Not exactly. These are *rendered* pixels, meaning that if you were able to somehow physically stretch your screen to the same size, you would see that same gray color. In reality however, you would see the three RGB bars - the gray color displayed is the rendering/ sum/ blend of the 3 channels in that pixel and the color that should theoretically exist. \\n\\nRecall earlier I said that gray is perceived on a screen when the RGB values are of equal but less than 100% brightness. This is a bit oversimplified because the values do not need to be exactly equal, gray starts to be seen as white around 90% brightness, and there are other factors as well. However, it is IMPORTANT to note that things we see as gray will have approximately the same intensity for each channel. This means that the viral strawberry image DOES SHOW RED LIGHT! If you still don\\'t believe me, I imported the linked image into photoshop and made some edits. I also used my phone\\'s camera focused through the pocket microscope to demonstrate what was happening on the actual laptop screen: http://imgur.com/a/42m1K\\n\\n\\n\\n--END ANSWER--\\n\\n--BEGIN CITATION--\\n\\nhttps://www.reddit.com/r/askscience/comments/5x3wr2/the_allgreen_picture_with_red_strawberries/\\n\\nJMP_2203\\n\\n\\n\\n--END CITATION--\\n\\n']\n",
      "['gtxk7d', '--BEGIN QUESTION--\\n\\nYuo\\'re prboably albe to raed tihs setencne. Deos tihs wrok in non-alhabpet lanugaegs lkie Chneise?\\\\n\\n--END QUESTION--\\n\\n--BEGIN CONTEXT--\\n\\nIt\\'s well known that you can fairly easily read English when the letters are jumbled up, as long as the first and last letters are in the right place. But does this also work in languages that don\\'t use true alphabets, like abjads (Arabic), syllabaries (Japanese and Korean) and logographs (Chinese and Japanese)?\\n\\n--END CONTEXT--\\n\\n--BEGIN ANSWER--\\n\\nOne way to tackle this that hasn\\'t been mentioned yet is via information theory.\\n\\nYou can read the text because English has some redundancy in its information content.  If I give you the letters \"sentenc_\", you can guess that the missing letter is \"e\" -- the e is pretty much redundant.  If I gave you \"thi_\", it might be \"this\" or \"thin\", but probably not \"thib\".  If \"albe\" and \"tihs\" and \"setencne\" were all valid English words, deciphering your topic sentence would be a lot harder!\\n\\nWe can distinguish between the \"symbol data rate\" and \"information rate\" of a written language.  The symbol data rate is the number of data bits needed to describe a random sequence of scrambled characters, taking into account the frequency of the characters.  Since English has 26 letters, you\\'d think that you\\'d need 5 bits (2^5 = 32) to represent them all, but since \"e\" and \"t\" are so common, the symbol rate of English is actually about 1.5 bits per symbol.\\n\\nThe *information rate* (entropy) can be obtained by asking native speakers to predict the next letter, or else by using a data compression algorithm to re-encode the text without the redundancy.  The information rate of English is less than the frequency of random letters, about 1 bit per symbol -- so English has a redundancy rate of about 50%.\\n\\nRemember, it\\'s this redundancy that makes it possible to read incomplete or error-filled text.  What is the redundancy in other languages?\\n\\n[This paper](https://pdfs.semanticscholar.org/a44d/9b998c1451328bcb4517ed9c1930171e0a79.pdf) calculates information rates for a variety of languages.  Since Chinese has a much larger number of symbols, each symbol has more information content -- but of course, some still occur more frequently than others.  For Chinese, the symbol data rate is about 4.8 bits per symbol.  The *information* data rate is about 3 bits per symbol.  Thus, the redundancy of written Chinese is also about 40%.\\n\\nJapanese as you\\'d imagine is somewhere in between.  Symbol rate of about 4 bits per symbol, info rate of about 2.6 -- about 40% redundancy.\\n\\nThere is one interesting exception: Korean.  It\\'s symbol rate is about 3.6 bps, information rate 3.3 -- about 10% redundancy.  This may be because the Korean writing system was specifically designed to represent Korean, rather than evolving naturally over thousands of years.  (Romanized versions of Japanese and Chinese also have low redundancy.)\\n\\nThe upshot: the writing systems for most natural languages have similar amounts of information redundancy, which allow you to read them even if they\\'re garbled.\\n\\nhttps://www.britannica.com/science/information-theory/Linguistics\\nhttps://pdfs.semanticscholar.org/a44d/9b998c1451328bcb4517ed9c1930171e0a79.pdf\\n\\nI disagree that you can’t play around the Chinese characters while still keep them readable.\\n\\nOne perfect example is the so called Martian language in Chinese internet community. About a decade ago, a noticeable number of the younger generation in China started using the Martian Language when posting on the internet. They used this “language” to distinguish themselves from the older generation and who were not fashionable enough. Later on, it became a symbolic behavior of the Smart subculture. What the Martian language do is basically replacing each correct Chinese character with another one that looks similar but with more strokes or less. Sometimes a few random meaningless decorative characters were added too. For example,\\n\\nSimplified Chinese: 我很怀念过去,但现实告诉我那只是过去\\n\\nMartian Language: 〆、莪佷懷淰過厾，泹哯實哠訴莪哪呮湜過厾ゾ\\n\\nEnglish: I yearn the past a lot, but the reality tells me that it’s only in the past.\\n\\nYou may noticed that each corresponding character has some common part with the original character. How normal Chinese character is converted doesn’t have a unified rule. It largely depends on the tool being used. But normally people are able to read those sentences without too much trouble. In Chinese language, it doesn’t make much sense to randomly scramble the strokes in a character especially when typing with a computer, but the Martian language shows that it’s still possible to read Chinese when the characters are changed.\\n\\nInterestingly, the Smart subculture later was considered not so smart by the majority of the internet users. Then less and less people use Martian Language.\\n\\nThe analog to letters in Chinese characters are radicals. Each character consists of multiple (usually 2 or 3 radicals), with some characters having special strokes.\\n\\nUsually the first radical indicates a sort of categorization of the word, and the second radical is a phonetic.\\n\\nNote: this is true only of simplified chinese, since traditional chinese is descended from a time when the pronounciations of words was different and characters were separate from the pronounciation.\\n\\nNow radicals can be arranged in several ways - it can be left/right (most common), it can be top/bottom, it can be outside/inside. If it was three radicals, the common arrangements are left/right-top/right-bottom, top/middle/bottom.\\n\\nSo if we take the analogy to the further extent, the question is whether Chinese can be read if the radicals were placed in a wrong arrangement. Further to complicate, when certain radicals are placed in certain spots, the form changes. For example the radical for heart if placed on the bottom is 心 but when placed on the left it becomes 忄\\n\\nFor example 态 vs 忲. They both have exactly the same radicals in a different arrangement, and they mean completely different things. The first one is one\\'s emotional/mental state, the second means extravagance\\n\\nAlso 杏 vs困 vs 呆 all same radicals. First is almonds, second is to restrain, third is to be blank. \\n\\nThere are many characters where this is not possible, but there exist characters that there are alternate arrangements that get different meanings. Hence the answer to this question posed by the OP is that it really depends on the character in play. There are some character that so obviously must be a particular character that no matter how you re-arrange it, people will know you made a typo, yet there are some that can be morphed into characters with a different meaning.\\n\\n\\n\\n--END ANSWER--\\n\\n--BEGIN CITATION--\\n\\nhttps://www.reddit.com/r/askscience/comments/gtxk7d/yuore_prboably_albe_to_raed_tihs_setencne_deos/\\n\\nagate_\\n\\ngavin0\\n\\nvery_bad_advice\\n\\n\\n\\n--END CITATION--\\n\\n']\n",
      "['80cpqc', '--BEGIN QUESTION--\\n\\nWhen did scientists realize that Jupiter had no solid ground?\\\\n\\n--END QUESTION--\\n\\n--BEGIN CONTEXT--\\n\\nI watched the 1953 version of \"War of the Worlds\" over the weekend, and it said that the aliens wouldn\\'t go there, because the surface was largely volcanic, so I was wondering when they realized that it has no solid ground. Thanks in advance! \\n\\n--END CONTEXT--\\n\\n--BEGIN ANSWER--\\n\\nAs several people have pointed out, the question is not [\"what is Jupiter\\'s structure\"](https://www.reddit.com/r/askscience/comments/80cpqc/when_did_scientists_realize_that_jupiter_had_no/duunoak/?utm_content=permalink&utm_medium=front&utm_source=reddit&utm_name=askscience) or [\"When did scientists realize that Jupiter had an atmosphere\"](https://www.reddit.com/r/askscience/comments/80cpqc/when_did_scientists_realize_that_jupiter_had_no/duupzwm/?utm_content=permalink&utm_medium=front&utm_source=reddit&utm_name=askscience), it\\'s \"when did scientists realize it had no solid ground?\".  It\\'s about the *history* of knowledge of the interior composition.  Since, [recent spacecraft results](https://www.reddit.com/r/askscience/comments/80cpqc/when_did_scientists_realize_that_jupiter_had_no/duuorz9/?utm_content=permalink&utm_medium=front&utm_source=reddit&utm_name=askscience) suggest it may gradually transition into something like a small solid core, let\\'s interpret the question as, \"When did we first realize that Jupiter wasn\\'t a rocky planet\"?\\n\\nTo solve this problem, you need to calculate the mass of Jupiter and its size, so you can find its *density*.  The mass of Jupiter can be calculated using Newtonian orbital mechanics, provided you know the orbital period and orbital diameter of its moons.  Period is easy, but a major historical problem in solar system studies was finding the relative scale of *everything*: it\\'s easy to measure angles and relative sizes with a telescope, but we need the actual length dimensions.  You need a baseline distance to start with, such as the distance from the Earth to the Sun: this was worked out [in the late 1600s](https://en.wikipedia.org/wiki/Astronomical_unit#History): from that, the size of Jupiter, the size of its moons\\' orbits, and thus its mass and density could be found.\\n\\nSo even before 1700, astronomers realized that Jupiter was 300 times the mass of Earth, but with a density much less than that of rock.  Since the density known today is about 1.4 times that of water, I suppose that without knowledge of high-pressure physics they couldn\\'t rule out a liquid water or ice planet, but scientists have known for over 300 years that Jupiter is definitely not a rocky world.  H. G. Wells was a fantastic writer, but he maybe wasn\\'t so meticulous about doing his library research.\\n\\nThe story is laid out by Reta Beebe in [*Jupiter: The Giant Planet*](https://www.amazon.com/JUPITER-Smithsonian-Library-Solar-System/dp/1560986859) (1997).  \\n\\n\\nThe Pioneer and Voyager missions helped with this somewhat, though indirectly. The affect of the planet\\'s gravity on the *known* speed, direction, and mass of the space probe allowed us to calculate fairly precisely the amount of mass Jupiter would have to have in order to produce the seen affects.\\n\\nWe\\'ve known the distance to Jupiter and approximate size of the visible part of the planet, so once we knew the mass it was fairly simple to work out the density. Knowing the density allowed us to then say \"it is either all heavy gasses, or there are a lot of light gasses and something--perhaps Earth sized--at the center that is a solid core\". Considering that a few hundred Earths could fit inside Jupiter, the idea that the core might be Earth sized is impressive to us but in reality is some single-digit percent of the overall mass and volume of the planet. It would compare favorably to putting a peanut in the middle of the Capitol Rotunda and asking someone to find it blindfolded, using only one hand, while crawling on hands and knees. An Earth-size core is very (very) vanishingly small under the incredible amount of matter Jupiter has on hand.\\n\\nThe other fun thing with Jupiter that helps us determine its makeup is the fact that it is esssentially invisible to radar. This means it is comparable to clouds and air on Earth. We can see Venus on radar, we can see Mars, we can see the four big Moons of Jupiter on radar. But we can\\'t see Jupiter itself except for the occasional wisp; on radar the moons of Jupiter appear to circle empty space. This implies that if there is anything solid there it is so buried as to be effectively non-existent for human purposes.\\n\\n[This is different from *radio* astronomy, which uses radio dishes to study radio emissions from planets and stars; in radio frequencies Jupiter is VERY loud].\\n\\nu/astromike23 had a wonderful answer to this question that I\\'ll repost:  \\n\\n\"For the interior of Jupiter, let\\'s imagine taking a descent from cloud-tops down to the core based on our best guesses of what lies below.\\n\\nYou start falling through the high, white ammonia clouds starting at 0.5 atmospheres, where the Sun is still visible. It\\'s very cold here, -150 C (-240 F). Your rate of descent is roughly 2.5x that of Earth, since gravity is much stronger on Jupiter.\\n\\nYou emerge out the bottom of the cloud deck somewhere near 1 atmosphere. It\\'s still somewhat bright, with sunlight filtering through the ammonia clouds much like an overcast day on Earth. Below, you see the second cloud-deck made of roiling brown ammonium hydrosulphide, starting about 2 atmospheres.\\n\\nAs you fall through the bottom of this second cloud deck, it\\'s now quite dark, but warming up as the pressure increases. Beneath you are white water clouds forming towering thunderstorms, with the darkness punctuated by bright flashes of lightning starting somewhere around 5 atmospheres. As you pass through this third and final cloud-deck it\\'s now finally warmed up to room temperature, if only the pressure weren\\'t starting to crush you.\\n\\nEmerging out the bottom, the pressure is now intense, and it\\'s starting to get quite warm, and there\\'s nothing but the dark abyss of ever-denser hydrogen gas beneath you. You fall through this abyss for a very, very long time.\\n\\nYou eventually start to notice that the atmosphere has become thick enough that you can swim through it. It\\'s not quite liquid, not quite gas, but a \"supercritical fluid\" that shares properties of each. Your body would naturally stop falling and settle out somewhere at this level, where your density and the atmosphere\\'s density are equal. However, you\\'ve brought your \"heavy boots\" and continue your descent.\\n\\nAfter a very, very long time of falling through ever greater pressure and heat, there\\'s no longer complete darkness. The atmosphere is now warm enough that it begins to glow - red-hot at first, then yellow-hot, and finally white-hot.\\n\\nYou\\'re now 30% of the way down, and have just hit the metallic region at 2 million atmospheres of pressure. Still glowing white-hot, hydrogen has become so dense as to become a liquid metal. It roils and convects, generating strong magnetic fields in the process.\\n\\nMost materials passing through this deep, deep ocean of liquid metallic hydrogen would instantly dissolve, but thankfully you\\'ve brought your unobtainium spacesuit...which is good, because it\\'s now 10,000 C (18,000 F). Falling ever deeper through this hot glowing sea of liquid metal, you reflect that a mai tai would really hit the spot right about now.\\n\\nAfter a very, very, very long time falling through this liquid metal ocean, you\\'re now 80% of the way down...when suddenly your boots hit a solid \"surface\", insomuch as you can call it a surface. Beneath you is a core weighing in at 25 Earth-masses, made of rock and exotic ices that can only exist under the crushing pressure of 25 million atmospheres.\\n\\nYou check your cell phone to tell you friends about your voyage...but sadly, it melted in the metallic ocean - and besides, they only have 3G down here.\\n\\nTL;DR: You would stop falling about 10% of the way down, where your density matches the density of the surrounding hydrogen \"supercritical fluid\".\"\\n\\n\\n\\n--END ANSWER--\\n\\n--BEGIN CITATION--\\n\\nhttps://www.reddit.com/r/askscience/comments/80cpqc/when_did_scientists_realize_that_jupiter_had_no/\\n\\nagate_\\n\\nkmoonster\\n\\ncoma_waering\\n\\n\\n\\n--END CITATION--\\n\\n']\n"
     ]
    }
   ],
   "source": [
    "best_topics = []\n",
    "for topic in topics:\n",
    "    if topic[0] in best_scores_id:\n",
    "        best_topics.append(topic)\n",
    "        print(topic)"
   ]
  },
  {
   "cell_type": "code",
   "execution_count": 8,
   "metadata": {},
   "outputs": [
    {
     "data": {
      "text/plain": [
       "['7bf9w9',\n",
       " '--BEGIN QUESTION--\\n\\nIf someone was to cover their eyes for a year straight without seeing any light, would it just be really bright when they take it off then slowly adjust back to normal or would it have a permanent affect on the persons vision?\\\\n\\n--END QUESTION--\\n\\n--BEGIN CONTEXT--\\n\\nEdit: Well I\\'m pretty satisfied with all the answers as they seem to come to similar conclusions. Thanks!\\n\\n--END CONTEXT--\\n\\n--BEGIN ANSWER--\\n\\nTL;DR: No unless the brain is still developing.\\n\\nI just got my degree in Psychology and can answer this in terms of brain development.\\nPermanent loss of vision has not been observed in adults, as u/Moorgan17 stated earlier. Permanent loss of vision has been seen however in young animals. A study was conducted years ago where one of a kitten\\'s eyes was stitched up pretty much right from birth. I believe the eye was kept closed for about a year (at least a couple of months, but I\\'ll double check that). When the eye was opened back up again, the kitten was permanently blind in that eye. I\\'ll try find then start and link it. I\\'m on mobile right now.\\n\\nThis has to do with the Occam\\'s razor effect that developing brains have. This behaviour transcends species and basically means \"If you\\'re not using it, get rid of it\". It\\'s a way of the brain not putting effort into something that doesn\\'t work anymore. It\\'s even been shown that the part of the brain associated with the loss of sight ends up working on some other part of the body (kind of like how blind people have slightly heightened other senses). This is known as brain plasticity.\\n\\nSide note: brain plasticity also works in the opposite way. A young girl had half of her brain removed in an attempt to relieve her of her constant seizures. This left the young girl paralyzed on one half of her body and with several cognitive difficulties too. Over time, however, the half of the brain that was left began to compensate for the lack of brain mass and she began to regain movement in the side of her body affected by the surgery, her language and other cognitive skills. \\n\\nBasically brains are cool. \\n\\nEdit: a video on Jody, the girl with half a brain https://youtu.be/VaDlLD97CLM\\n\\nEdit 2: for those interested in the kitten study, see Hubel, D. H. & Wiesel, T. N. (1964). Effects of Monocular Deprivation in Kittens\\n\\nAs it turns out, the kittens\\' eyes were sutured for only a few weeks, not even months.\\n\\n\\n\\n--END ANSWER--\\n\\n--BEGIN CITATION--\\n\\nhttps://www.reddit.com/r/askscience/comments/7bf9w9/if_someone_was_to_cover_their_eyes_for_a_year/\\n\\nDroppedD94\\n\\n\\n\\n--END CITATION--\\n\\n']"
      ]
     },
     "execution_count": 8,
     "metadata": {},
     "output_type": "execute_result"
    }
   ],
   "source": [
    "example_topic = best_topics[0]\n",
    "example_topic"
   ]
  },
  {
   "cell_type": "code",
   "execution_count": 9,
   "metadata": {},
   "outputs": [],
   "source": [
    "first_draft = videoscript.create_draft(example_topic[1])"
   ]
  },
  {
   "cell_type": "code",
   "execution_count": 10,
   "metadata": {},
   "outputs": [],
   "source": [
    "second_draft = videoscript.improve_hook(first_draft)"
   ]
  },
  {
   "cell_type": "code",
   "execution_count": 11,
   "metadata": {},
   "outputs": [],
   "source": [
    "third_draft = videoscript.edit_script(second_draft)"
   ]
  },
  {
   "cell_type": "code",
   "execution_count": 12,
   "metadata": {},
   "outputs": [],
   "source": [
    "criticism = videoscript.critique_script(third_draft)"
   ]
  },
  {
   "cell_type": "code",
   "execution_count": 14,
   "metadata": {},
   "outputs": [],
   "source": [
    "fourth_draft = videoscript.revise_script(third_draft, criticism)"
   ]
  },
  {
   "cell_type": "code",
   "execution_count": 15,
   "metadata": {},
   "outputs": [],
   "source": [
    "fifth_draft = videoscript.improve_hook(fourth_draft)"
   ]
  },
  {
   "cell_type": "code",
   "execution_count": 16,
   "metadata": {},
   "outputs": [],
   "source": [
    "sixth_draft = videoscript.edit_script(fifth_draft)"
   ]
  },
  {
   "cell_type": "code",
   "execution_count": 22,
   "metadata": {},
   "outputs": [],
   "source": [
    "SCRIPT_DIR = os.getenv(\"SCRIPT_DIR\")\n",
    "with open(os.path.join(SCRIPT_DIR, f'{example_topic[0]}.txt'), 'w') as file:\n",
    "    file.write(fifth_draft)\n"
   ]
  },
  {
   "cell_type": "code",
   "execution_count": 21,
   "metadata": {},
   "outputs": [
    {
     "data": {
      "text/plain": [
       "'\"Prepare to have your mind blown: what if you spent an entire year shrouded in complete darkness? Could your eyes adapt to see once again? Hold close the secret weapon of the human body – the remarkable resilience of your eyes paired with the superhero powers of brain plasticity!\\n\\nOur brains are not static enigmas; they\\'re dynamic marvels, continually reshaping in response to our experiences. Think of it as constantly updating your mental operating system, even beyond childhood. That\\'s right, the capability for change never completely disappears!\\n\\nImagine emerging from the shadows not only with restored sight but with heightened senses forged in the dark. Let\\'s unravel this mystery together in the comments, carve out your hypotheses, or smash that like button and subscribe for a regular dose of cognitive conundrums. I\\'m ModMind, your guru of the grey matter, closing out with eyes wide open to the wonders of neuroplasticity – stay tuned for more sensory sagas!\"'"
      ]
     },
     "execution_count": 21,
     "metadata": {},
     "output_type": "execute_result"
    }
   ],
   "source": [
    "fifth_draft"
   ]
  },
  {
   "cell_type": "code",
   "execution_count": null,
   "metadata": {},
   "outputs": [],
   "source": []
  }
 ],
 "metadata": {
  "kernelspec": {
   "display_name": "ContentGeneration",
   "language": "python",
   "name": "python3"
  },
  "language_info": {
   "codemirror_mode": {
    "name": "ipython",
    "version": 3
   },
   "file_extension": ".py",
   "mimetype": "text/x-python",
   "name": "python",
   "nbconvert_exporter": "python",
   "pygments_lexer": "ipython3",
   "version": "3.8.18"
  }
 },
 "nbformat": 4,
 "nbformat_minor": 2
}
