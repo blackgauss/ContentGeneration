{
 "cells": [
  {
   "cell_type": "code",
   "execution_count": 12,
   "metadata": {},
   "outputs": [],
   "source": [
    "import sys\n",
    "sys.path.insert(0, '../ContentGeneration')\n",
    "import videoscript\n",
    " \n",
    "import json\n",
    "import os\n",
    "from dotenv import load_dotenv\n",
    "load_dotenv()\n",
    "\n",
    "import time\n",
    "import random"
   ]
  },
  {
   "cell_type": "code",
   "execution_count": 9,
   "metadata": {},
   "outputs": [],
   "source": [
    "REFERENCE_DATA_PATH = os.getenv(\"REFERENCE_DATA_PATH\")\n",
    "with open(REFERENCE_DATA_PATH) as file:\n",
    "    posts = json.load(file)\n",
    "\n",
    "example_posts = posts[0:50]"
   ]
  },
  {
   "cell_type": "code",
   "execution_count": 10,
   "metadata": {},
   "outputs": [],
   "source": [
    "topics = [[example_post[0], videoscript.format_script(example_post)] for example_post in example_posts]"
   ]
  },
  {
   "cell_type": "code",
   "execution_count": 21,
   "metadata": {},
   "outputs": [],
   "source": [
    "scores = []\n",
    "for topic in topics:\n",
    "    ranks = []\n",
    "    num_scores = random.choice([1,2,3])\n",
    "    for i in range(num_scores):\n",
    "        try:\n",
    "            score = videoscript.rank_interest(topic[1])\n",
    "            time.sleep(1) # I am getting rate limited by the API :(\n",
    "            if score == None:\n",
    "                score = 50\n",
    "            ranks.append(score)\n",
    "        except:\n",
    "            break\n",
    "    scores.append([topic[0], ranks])"
   ]
  },
  {
   "cell_type": "code",
   "execution_count": 30,
   "metadata": {},
   "outputs": [
    {
     "name": "stdout",
     "output_type": "stream",
     "text": [
      "20\n"
     ]
    }
   ],
   "source": [
    "computed_scores = []\n",
    "for item in scores:\n",
    "    computed_scores.append([item[0], sum(item[1])/len(item[1])])\n",
    "print(len(computed_scores))"
   ]
  },
  {
   "cell_type": "code",
   "execution_count": 28,
   "metadata": {},
   "outputs": [],
   "source": [
    "best_scores_id = []\n",
    "for score in computed_scores:\n",
    "    if score[1] > 80:\n",
    "        best_scores_id.append(score[0])"
   ]
  },
  {
   "cell_type": "code",
   "execution_count": 31,
   "metadata": {},
   "outputs": [
    {
     "name": "stdout",
     "output_type": "stream",
     "text": [
      "['ahyapf', \"--BEGIN QUESTION--\\n\\nIf we could travel at 99.9% the speed of light, it would take 4 years to get to Alpha Centauri. Would the people on the spaceship feel like they were stuck on board for 4 years or would it feel shorter for them?\\\\n\\n--END QUESTION--\\n\\n--BEGIN CONTEXT--\\n\\n\\n\\n--END CONTEXT--\\n\\n--BEGIN ANSWER--\\n\\nNope, time dilation is a cool part of special relativity. At 99.9% the speed of light the trip would be 0.17 ish years to the occupants of the spaceship. The closer you get to 100%, ie. add more 9’s to the end of your percentage, the faster the trip would feel to the occupants. Here’s a cool calculator site you can play with to see these effects. http://www.emc2-explained.info/Dilation-Calc/#.XESiMRZlCEc\\n\\n-edit This seems to be a frequent question and it’s a good one. How would you age? The traveler would age relative to the time they experience. So on this trip while everyone on earth experienced 4 years, you’d only age a few months! Take a long enough trip and you might just outlive your own grandchildren!\\n\\n\\n-edit2 Time dilation has been proven experimentally using very precise measurements. Here's a link to an article for some further reading. https://www.scientificamerican.com/article/einsteins-time-dilation-prediction-verified/\\n\\nAlso, as some have pointed out, it would take a long time to accelerate to these speeds at 1g and would require a HUGE amount of energy to do so. Definitely not practical with current propulsion technologies. I have heard that large solar sails might be able to accelerate small probes to high speeds 20-30% c which would be a cool thing to see. \\n\\n-edit3 For those curious about the solar sail probe, if you google StarShot you’ll find a lot of info about it. https://breakthroughinitiatives.org/initiative/3\\n\\n-edit4 As many have pointed out, time dilation is a direct result of the length contraction observed by the traveling body. Also, thanks for for the gifts kind strangers.\\n\\n-edit5 Another fun link thanks to /u/konstantinua00 talking about relativistic effects on mission duration http://convertalot.com/relativistic_star_ship_calculator.html\\n\\n\\n\\n--END ANSWER--\\n\\n--BEGIN CITATION--\\n\\nhttps://www.reddit.com/r/askscience/comments/ahyapf/if_we_could_travel_at_999_the_speed_of_light_it/\\n\\nLankeyWanker\\n\\n\\n\\n--END CITATION--\\n\\n\"]\n",
      "['6idvam', '--BEGIN QUESTION--\\n\\nDoes the size of a creature, or the size of its eye, affect what can be seen by the \"naked eye\"? for example, can ants see things we consider microscopic? are ants microscopic to elephants?\\\\n\\n--END QUESTION--\\n\\n--BEGIN CONTEXT--\\n\\nEdit: wow. I was expecting something along the lines of \"of course not idiot\"  but this is now my top ever post. Great discussion everyone!\\n\\nalso yes ants don\\'t have eyes i know that now. i just meant something small that does have eyes.\\n\\nEdit 2: ok ants DO have eyes.\\n\\nalso why am i on the front page for asking if elephants can see ants? this is the best day ever!\\n\\nFINAL EDIT: somebody gave me gold, and this has become the third top post ever on askscience... that is not how i was expecting this to go. thank you all!\\n\\n--END CONTEXT--\\n\\n--BEGIN ANSWER--\\n\\nin terms of optics and photoreceptor density, which are the principal factors in a creature\\'s visual resolution (\"details per degree of visual angle\"), there probably isn\\'t much real difference between the *angular* visual resolution of e.g. a jumping spider and a house cat - both can see, at best, about ~10 details per degree. so if you shrank a cat down to spider size (or vice versa), they\\'d both have similar limits to the smallest things they could see.\\n\\nbut since they\\'re different sizes, the sizes of the things they can see will also scale; since the eye is getting smaller, its ~~*near point*~~ (i think i meant \\'depth of field\\' here) is getting proportionally shorter. so if a jumping spider\\'s eye is a thousand times smaller than a cat\\'s eye, it can potentially resolve details that are a thousand times smaller than what a cat\\'s can resolve. a cat can never get optically close enough to a grain of sand to make it a degree wide, so that it could see \\'ten details\\' on its surface, while this optical distance is easily available to the spider.\\n\\nthe caveat to this general scalability of vision is in the \"noisiness\" of light, i.e. factors like diffraction (limitation in how small of a point can be focused) or chromatic aberration (the difference in focal distance for different light wavelengths) - for a big eye with a big pupil, this noisiness is insignificant, but for a spider\\'s eye it is getting significant, since all of us are looking at more-or-less the same light bandwidth. jumping spiders, for example, deal with this by having retinas at different focal depths to try to account for chromatic aberration.\\n\\nbut this stuff gets complicated, especially considering that the range in optical quality and photoreceptor density across species washes out most of these limitations. i think you could safely suppose that, in the range of terrestrial creature sizes, vision basically scales with size.\\n\\n*edit* the important thing is that things scale, but my concepts are confused re \"near point\" etc, see /u/craigdubyah for better/more detailed info---\\n\\n*edit edit* sorry i didn\\'t keep up with this, was busy all day; but let me excuse the rough edges of my answer by saying it was a lot of well-informed hand waving and of course i didn\\'t try to go into detail about diffraction and lens power and etc etc; i just wanted to get the basic gist across that vision should more-or-less scale with the size of the eye, receptor sampling being equal (as in the cat/spider comparison). field of view, pupil sizes, etc, all very important but another time and place, ok?\\n\\nIt really depends on the organism and the structures that make up their eye. Eyes have a lens to focus light onto photoreceptor cells that transfer that light into info for the brain. The main two photoreceptors are rods, which are good at seeing contrast between dark and light, and cones, which respond to specific wavelengths of light and give us color vision.\\n\\nThe ability to see something (called visual acuity) is measured as the smallest width an object can be and still be seen. To get a greater acuity, you either have to change the lens to focus the light better (like wearing glasses) or you have to pack more photoreceptors into your eye. For example, birds like eagles have similar sized eyes to humans but have about 5 times as many photoreceptors per square millimeter. Better vision is more common in animals that need to make out a lot of fine details, either predators that need to spot prey or nocturnal animals that have to see in the dark.\\n\\nThe issue with small organisms like ants is that their eyes aren\\'t big enough to have a lot of photoreceptors, so they can mostly make out things like light/dark and general shapes and patterns. Some arthropods deal with this by having compound eyes, which gives them a greater area for photoreceptors, or simply grow massive eyes that take up a large part of their head.\\n\\nFor larger organisms like elephants, we can actually estimate their visual acuity by using a striped, spinning circle. Eyes will naturally follow movement, so if the stripes can be distinguished, you can see eye movement. If the stripes are too small, the circle will appear as one color and the eye won\\'t track anything, so no movement. For Asian elephants, they found that at 2 meters from the eye, the smallest thing they can see is something a half centimeter across (about a quarter inch at 6 and a half feet, if you\\'re an Imperial user like me).\\n\\nTl;dr, Vision depends on the animal\\'s needs and its size. Ants are small and their eyes aren\\'t big enough to be able to see fine detail. Elephants can see things about a half centimeter across if it\\'s 2 meters from its face or closer.\\n\\n\\n\\n--END ANSWER--\\n\\n--BEGIN CITATION--\\n\\nhttps://www.reddit.com/r/askscience/comments/6idvam/does_the_size_of_a_creature_or_the_size_of_its/\\n\\naggasalk\\n\\nBurgerGamer\\n\\n\\n\\n--END CITATION--\\n\\n']\n",
      "['gfaczm', '--BEGIN QUESTION--\\n\\nCan my 7 year old ask you about tornadoes?\\\\n\\n--END QUESTION--\\n\\n--BEGIN CONTEXT--\\n\\nSo my son has high functioning autism and he is obsessed with tornados. He is 7 and constantly pesters his mom and myself with questions. I know the basics but I am hoping that the more knowledgeable of you can provide more correct answers that I can simplify for him. And any other super cool facts wold be super appreciated!\\n\\nTornados:\\n\\n1. How do tornadoes create a vortex?\\n1. How are their winds so strong?\\n1. How do tornadoes form their eye?\\n1. Is the center of the tornado the strongest part?\\n1. How do tornadoes crush items that it sucks up?\\n\\n--END CONTEXT--\\n\\n--BEGIN ANSWER--\\n\\nThis is actually right up my alley as I study atmospheric science and have even done some storm chasing myself. If your son hasn’t had the chance, I’d definitely recommend watching old TV shows like Storm Chasers from  the Discovery Channel or storm chaser videos that come out on YouTube after every big tornado event! Also the weather service has great resources such as [https://www.nssl.noaa.gov/education/svrwx101/tornadoes/faq/](https://www.nssl.noaa.gov/education/svrwx101/tornadoes/faq/) with plenty of information. I\\'ve left out peer-reviewed sources since I don\\'t imagine they\\'re of much interest to a 7 year old.\\n\\n1. When you see thunderstorms, you’re seeing rising air fueled with energy from water condensing into the cloud we see. The rising air is called and updraft, and the thunderstorm has to continually suck in air from the surrounding environment to fuel it. If the winds in the atmosphere change direction with height, this can cause the core of the storm to rotate – a rotating updraft is called a mesocyclone. Now the tricky part is we actually don’t have a complete theory for how these rotating updrafts form tornadoes – some do but most do not – and this is a topic of ongoing research! If we could figure this out, it would save many lives.  \\nTornadoes rotate because the storm rotates – it’s an extension of this updraft that reaches the surface. Most of the tornadoes we typically think of are produced by supercells, which are the strongest type of thunderstorm. These storms have towering cumulonimbus clouds, have a rotating updraft (mesocyclone), and are fueled by energy from the sun and water vapor and by strong winds in the atmosphere.Fun fact - a supercell\\'s updraft can carry tornado debris to as high as 30 thousand feet, after which it can fall out hundreds of miles away. Seeing this debris on radar is one of the main ways scientists such as those at the National Weather Service can \\'see\\' a tornado without actually being near the storm and warn the public. The height debris reaches is correlated very well with tornado strength and the strength of the thunderstorm updraft.\\n2. The winds in tornadoes are so strong because the winds in thunderstorms are so strong! The speed of the updraft in a supercell can exceed 40 m (130 feet) per second, and air is drawn in rapidly to replace air that has risen. As air is drawn  into a tornado and rotates around it, it speeds up much like an ice skater drawing their arms to spin faster. This is because of conservation of angular momentum. A tornado is basically a tiny low-pressure system (like a hurricane or your sink draining) and the winds increase toward the center similarly.Fun fact - we see clouds in tornadoes (called the condensation funnel) because the pressure decreases and water vapor condenses inside the vortex, but the tornado is bigger than the cloud, and a condensation funnel is not necessary for a tornado to exist and do damage.\\n3. Tornadoes are not thought to have ‘eyes’ in the same way hurricanes do, but the wind speed at the center is 0. If you looked at a cross section of a tornado (see the link in 4), the wind profile in a tornado increases as you move towards the center  –  but it can’t go up forever! Near the center, it turns back towards 0 before increasing again on the other side. Any vortex has a calm center like this!\\n4. In some ways yes. The area near the center has the fastest winds, though the center itself has the weakest wins. Observed wind profiles from real tornadoes such as [https://www.sciencedirect.com/science/article/pii/S0167610517301174#fig6](https://www.sciencedirect.com/science/article/pii/S0167610517301174#fig6) show this pattern.Typically however, being in the center of a tornadoes path *is* the worst place to be. As a tornado moves, the areas in the center of its path will spend the longest time inside, will experience the strongest winds twice, and will endure a complete 180 degree turnaround in violent winds. This does a lot of damage!\\n5. Things damaged by a tornado typically are damaged by other things inside a tornado more than they are by the winds themselves. Most of the damage you see when a tornado hits trees or buildings is from debris picked up by the tornado and hurled around! This is actually a reasonably large issue in determining tornado strength. We rate tornadoes using the EF scale, from the weakest EF-0, to the strongest EF-5, but ratings are given based on damage caused. The widest tornado ever recorded, the El Reno, OK tornado in 2013, was a staggering 2.6 miles wide and is often thought to be an EF-5. Researchers nearby recorded nearly 300 mph winds (EF-5 strength) inside the tornado using radar, but since we officially assess tornado strength by damage caused and the El Reno tornado was primarily in open fields, it ended up with only an EF-3 rating.\\n\\nI hope this helps, I\\'d be happy to elaborate or answer more questions!\\n\\nMeteorologist here (MSc), and I can answer question 1 rigourously! For a tornado to form there has to be wind shear: that is, the wind speed and direction has to be changing with height. This creates the initial momentum that causes tornadoes. Then you need buoyancy, to add to the energy that causes tornados.\\n\\nCareful though -- too much shear, and the system will be \"sheared away\" as We call it, too stretched out to do anything. Too much buoyancy, Though, and it\\'ll collapse onto itself. So Theres this balance between shear and buoyancy (something we call the richardson number, or the BRN).\\n\\nWhat happens when you get the right mix of shear and buoyancy? A bunch of math happens in the form of the vorticity equation. Essentially, the buoyancy tilts the shear so that instead of vertical shear you have horizontal shear (a difference in wind speed horizontally). Here\\'s a picture of it, google vortex tube tilting: https://www.boston.com/wp-content/uploads/2013/05/Supercell20final-thumb-453x837-103416.png . As it stretches out due to buoyancy, it increases in angular velocity (think of a ballet dancer pulling himself in to increase his rate of rotation), and voila, you have a tornado!\\n\\nFun fact for your kid, the vortex tube tilting always generates two tornadoes, but generally the left one dies.\\n\\nHappy to clarify anything here.\\n\\nEdit: in summary: wind shear creates horizontal angular momentum. Buoyancy tilts that into vertical angular momentum and stretches it out to increase the wind speed and rotation.\\n\\nAlso edited: angular velocity, not angular momentum, thanks u/geeflexx for catching that\\n\\nTorandos form in the sky first as a horizontal vortex of hot and cold air streams meeting. As it becomes more powerful it turns sideways which is what actually becomes a tornado. Tornados only form when the atmospheric pressure is low enough to allow for the formation of a vortex. The winds are so strong because when the vortex first forms in the sky and begins to create the circular movement of air it acts as a continuous feed back loop where the circle gets larger and larger and it gets faster over time as long as it is still receiving input from the air streams. Similar effect to how if you were to spin a heavy object attached to a string, at first it\\'s slow but as you gain momentum the weight of the object actually helps you go faster.\\n\\nEdit to answer more:\\nThe eye is formed once the tornado is on the ground and is actually the calmest part of the tornado. Inside the eye is an extremely low pressure zone, but almost no wind will be present. Similar again to the ball on string thing I mentioned earlier: if you spin the ball, you only have rotational movement but no horizontal movement, as you go away from the center of the spinning the horizontal movement increases creating high wind speeds.\\n\\nIn terms of how they crush things: it\\'s usually just objects colliding with the ground or each other in the air. If an object was weak and lightweight it could be effected by the centrifugal/centripetal force but usually the most destructive part is just dragging large objects along the ground.\\n\\n\\n\\n--END ANSWER--\\n\\n--BEGIN CITATION--\\n\\nhttps://www.reddit.com/r/askscience/comments/gfaczm/can_my_7_year_old_ask_you_about_tornadoes/\\n\\nStormMajor\\n\\nDashkins\\n\\ndarkabyss534\\n\\n\\n\\n--END CITATION--\\n\\n']\n",
      "['ahmf5h', '--BEGIN QUESTION--\\n\\nAsked my chemistry teacher (first year of highschool) this \"Why do we use the mole (unit) instead of just using the mass (grams) isn\\'t it easier to handle given the fact that we can weigh it easily? why the need to use the mole?\" And he said he \"doesn\\'t answer to stupid questions\"\\\\n\\n--END QUESTION--\\n\\n--BEGIN CONTEXT--\\n\\nDid I ask a stupid question?\\n\\nEdit: wow, didn\\'t expect this to blow up like this, ty all for your explanations, this is much clearer now. I didn\\'t get why we would use a unit that describes a quantity when we already have a quantity related unit that is the mass, especially when we know how to weight things. Thank you again for your help, I really didn\\'t expect the reddit community to be so supportive.\\n\\n--END CONTEXT--\\n\\n--BEGIN ANSWER--\\n\\nYou did not ask a stupid question. When trying to understand these conventions of science, you pretty much can\\'t ask a stupid question. In fact, I would argue it was an **important** question, and the teacher wasted an opportunity to stress the usage of the mole to the class. \\n\\nThe mole refers to a number of things, just like a dozen. You can have a dozen eggs, but also you could have a dozen molecules of caffeine. You could have a mole of caffeine, but you also could have a mole of eggs. This is important because chemistry cares more about the *number* of molecules than the weight of those molecules. \\n\\nFurthermore, consider the following balanced equation: 2(H2) + (O2) -> 2(H2O). Given 2 moles of H2 and excess oxygen, you know you can produce 2 moles of H2O. Using moles allows us to compare the actual quantity of molecules, whereas with weight it would be difficult to compare in such a neat fashion. Given 200g of H2 and excess oxygen, you have to do some annoying math to first convert to moles, then convert back to grams. \\n\\nMass is, like you noted, more useful because it\\'s easier to measure. You weigh chemicals with mass because it\\'s easier, and because we\\'re capable of converting to moles. That said, it\\'s not uncommon to have percentages which are based on weight. Mass by mass, mass by volume, and volume by volume (m/m, m/v, and v/v respectively) are all common, with the first being solids in solids (e.g. alloys), the second being solids in liquids (e.g. solutions), and the third being liquids in liquids (mixtures and some solutions). \\n\\nIn chemistry you care about the number of units that react. Not about their weight. \\n\\nIt doesn\\'t matter that 2 pounds of apples react with 4 pounds of oranges. You are interested in knowing how many apples react with one orange, or vice versa. And then maybe calculate the mass of apples and oranges that reacted/you\\'d need to have beforehand.\\n\\nNo question is a stupid question. Maybe you don\\'t know the answer to a very obvious question, but that\\'s part of the learning process. \\n\\nDon\\'t feel ashamed for your question. You did the right thing, you didn\\'t know, and you asked who you thought would give you the right answer. \\n\\n\\n--- --- --- × --- --- ---\\n\\nEdit: Answering to the reply of this comment:\\n\\n\\n\\nThe number of molecules is directly related to the substance mass, but it is molecule/atom/substance dependent.\\n\\nThe number of molecules in 3 grams of apples and 3 grams of oranges aren\\'t the same. Think of it as dozens of regular chicken eggs vs ostrich eggs. Yes, the number of units in a dozen is equivalent, but the masses aren\\'t! \\n\\nIf you asked someone for one pound of regular eggs and one pound of ostrich eggs, you wouldn\\'t receive the  same number of regular & ostrich eggs. You\\'d get many less ostrich eggs than regular ones. Same with chemical compounds and elements. They don\\'t weight the same. So you want to define a standard amount of units, the mole, to express effortlessly a standardized number of units, instead of using masses!\\n\\n\\nIn chemistry you are always interested in the number of  elements (element, as in, a single element in a bunch, not as in a chemical element) reacting/interacting, not their mass. Mass is a particular characteristic of the reagent/element/compound/molecule, whereas number of units is constant. 3 moles of water have the same number of particles as 3 moles of aspirin, 3 moles of cocaine and 3 moles of CO2!\\n\\n\\n\\n--END ANSWER--\\n\\n--BEGIN CITATION--\\n\\nhttps://www.reddit.com/r/askscience/comments/ahmf5h/asked_my_chemistry_teacher_first_year_of/\\n\\nAethi\\n\\nTina4Tuna\\n\\n\\n\\n--END CITATION--\\n\\n']\n"
     ]
    }
   ],
   "source": [
    "best_topics = []\n",
    "for topic in topics:\n",
    "    if topic[0] in best_scores_id:\n",
    "        best_topics.append(topic)\n",
    "        print(topic)"
   ]
  },
  {
   "cell_type": "code",
   "execution_count": 32,
   "metadata": {},
   "outputs": [],
   "source": [
    "example_topic = best_topics[2]"
   ]
  },
  {
   "cell_type": "code",
   "execution_count": 33,
   "metadata": {},
   "outputs": [],
   "source": [
    "first_draft = videoscript.create_draft(example_topic[1])"
   ]
  },
  {
   "cell_type": "code",
   "execution_count": 35,
   "metadata": {},
   "outputs": [],
   "source": [
    "second_draft = videoscript.improve_hook(first_draft)"
   ]
  },
  {
   "cell_type": "code",
   "execution_count": 36,
   "metadata": {},
   "outputs": [],
   "source": [
    "third_draft = videoscript.edit_script(second_draft)"
   ]
  },
  {
   "cell_type": "code",
   "execution_count": 42,
   "metadata": {},
   "outputs": [],
   "source": [
    "criticism = videoscript.critique_script(third_draft)"
   ]
  },
  {
   "cell_type": "code",
   "execution_count": 47,
   "metadata": {},
   "outputs": [],
   "source": [
    "fourth_draft = videoscript.revise_script(third_draft, criticism)"
   ]
  },
  {
   "cell_type": "code",
   "execution_count": 49,
   "metadata": {},
   "outputs": [],
   "source": [
    "fifth_draft = videoscript.improve_hook(fourth_draft)"
   ]
  },
  {
   "cell_type": "code",
   "execution_count": 55,
   "metadata": {},
   "outputs": [],
   "source": [
    "sixth_draft = videoscript.edit_script(fifth_draft)"
   ]
  },
  {
   "cell_type": "code",
   "execution_count": 56,
   "metadata": {},
   "outputs": [],
   "source": [
    "SCRIPT_DIR = os.getenv(\"SCRIPT_DIR\")\n",
    "with open(os.path.join(SCRIPT_DIR, f'{example_topic[0]}.txt'), 'w') as file:\n",
    "    file.write(sixth_draft)\n"
   ]
  }
 ],
 "metadata": {
  "kernelspec": {
   "display_name": "ContentGeneration",
   "language": "python",
   "name": "python3"
  },
  "language_info": {
   "codemirror_mode": {
    "name": "ipython",
    "version": 3
   },
   "file_extension": ".py",
   "mimetype": "text/x-python",
   "name": "python",
   "nbconvert_exporter": "python",
   "pygments_lexer": "ipython3",
   "version": "3.8.18"
  }
 },
 "nbformat": 4,
 "nbformat_minor": 2
}
