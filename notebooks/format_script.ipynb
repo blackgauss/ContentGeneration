{
 "cells": [
  {
   "cell_type": "code",
   "execution_count": 1,
   "metadata": {},
   "outputs": [],
   "source": [
    "import json\n",
    "import os\n",
    "import random\n",
    "from openai import OpenAI\n",
    "from dotenv import load_dotenv\n",
    "load_dotenv()"
   ]
  },
  {
   "cell_type": "code",
   "execution_count": 2,
   "metadata": {},
   "outputs": [],
   "source": [
    "with open('../videos/subreddits/AskScience/data_new.json') as file:\n",
    "    data = json.load(file)\n",
    "\n",
    "OPENAI_KEY  = os.gentenv(\"OPENAI_KEY\")\n",
    "\n",
    "client = OpenAI(\n",
    "    # defaults to os.environ.get(\"OPENAI_API_KEY\")\n",
    "    api_key= OPENAI_KEY,\n",
    ")"
   ]
  },
  {
   "cell_type": "code",
   "execution_count": 12,
   "metadata": {},
   "outputs": [],
   "source": [
    "def save_script(post):\n",
    "    id = post[0]\n",
    "    url = post[1]\n",
    "    question = post[2]\n",
    "    context = post[3]\n",
    "    answers = post[4]\n",
    "    citation = post[5]\n",
    "\n",
    "    long_answer = ''\n",
    "    for answer in answers:\n",
    "        long_answer += answer + '\\n\\n'\n",
    "\n",
    "    long_citation = ''\n",
    "    long_citation += url + '\\n\\n'\n",
    "    for cite in citation:\n",
    "        long_citation += cite[0] + '\\n\\n'\n",
    "    \n",
    "    script = f\"--BEGIN QUESTION--\\n\\n{question}\\\\n\\n--END QUESTION--\\n\\n\" \\\n",
    "             f\"--BEGIN CONTEXT--\\n\\n{context}\\n\\n--END CONTEXT--\\n\\n\" \\\n",
    "             f\"--BEGIN ANSWER--\\n\\n{long_answer}\\n\\n--END ANSWER--\\n\\n\" \\\n",
    "             f\"--BEGIN CITATION--\\n\\n{long_citation}\\n\\n--END CITATION--\\n\\n\"\n",
    "\n",
    "    with open(f'../videos/raw_scripts/{id}.txt', 'w') as file:\n",
    "        file.write(script)\n",
    "\n",
    "def make_prompt(preprompt_filename, reference_filename):\n",
    "    with open(preprompt_filename, 'r') as file:\n",
    "        PRE_PROMPT = file.read()\n",
    "    with open(reference_filename, 'r') as file:\n",
    "        post_prompt = file.read()\n",
    "    return PRE_PROMPT + '\\n' +  post_prompt\n",
    "\n",
    "def chat_gpt(prompt, model_name=\"gpt-3.5-turbo\"):\n",
    "    response = client.chat.completions.create(\n",
    "        model=model_name,\n",
    "        messages=[{\"role\": \"user\", \"content\": prompt}]\n",
    "    )\n",
    "    return response.choices[0].message.content.strip()\n",
    "\n",
    "\n",
    "def script_write(script_id, script_path='../videos/scripts/', model_name=\"gpt-3.5-turbo\"):\n",
    "    prompt = make_prompt('../data/gpt_prompts/script_writer.txt', f'../videos/raw_scripts/{script_id}.txt')\n",
    "    script = chat_gpt(prompt, model_name)\n",
    "    with open(script_path + script_id + '.txt', 'w') as file:\n",
    "        file.write(script)\n",
    "\n",
    "def get_file_names():\n",
    "    folder_path = '../videos/raw_scripts'\n",
    "    file_names = []\n",
    "    \n",
    "    for file in os.listdir(folder_path):\n",
    "        if file.endswith('.txt'):\n",
    "            file_name = os.path.splitext(os.path.basename(file))[0]\n",
    "            file_names.append(file_name)\n",
    "    \n",
    "    return file_names"
   ]
  },
  {
   "cell_type": "code",
   "execution_count": 4,
   "metadata": {},
   "outputs": [],
   "source": [
    "with open('../videos/subreddits/AskScience/data_new.json') as file:\n",
    "    data = json.load(file)\n",
    "\n",
    "for post in data[0:100]:\n",
    "    save_script(post)"
   ]
  },
  {
   "cell_type": "code",
   "execution_count": 5,
   "metadata": {},
   "outputs": [],
   "source": [
    "for name in get_file_names()[0:100]:\n",
    "    file_path = '../videos/scripts/' + name + '.txt'\n",
    "    if not os.path.exists(file_path):\n",
    "        script_write(name)\n",
    "    else:\n",
    "        # print(f\"File {file_path} already exists.\")\n",
    "        continue\n"
   ]
  },
  {
   "cell_type": "code",
   "execution_count": 11,
   "metadata": {},
   "outputs": [
    {
     "data": {
      "text/plain": [
       "['cakca3',\n",
       " '7vgwdg',\n",
       " 'a1tkpf',\n",
       " '7hmh2c',\n",
       " '6y33j6',\n",
       " '7omaq1',\n",
       " 'wjshja',\n",
       " '9wnkfv',\n",
       " '6j0tg2',\n",
       " '7jpnjl',\n",
       " '7yx524',\n",
       " '7n81em',\n",
       " '7mmz8i',\n",
       " '7trnof',\n",
       " '7v0z9e',\n",
       " 'kcxjhh',\n",
       " '7sewfa',\n",
       " '908y52',\n",
       " 'ch9pwm',\n",
       " '7pnuq0',\n",
       " '7xmrjn',\n",
       " 'ftvhit',\n",
       " 'fdcg3r',\n",
       " '74rboo',\n",
       " 'd7qi0y',\n",
       " 'fx3ejn',\n",
       " 'ewwmem',\n",
       " 'fq1rkq',\n",
       " '6o9rki',\n",
       " 'mhkbe3',\n",
       " '84auzr',\n",
       " 'imu81a',\n",
       " 'gzb3gy',\n",
       " '6jot46',\n",
       " '6wzxql',\n",
       " 'd26nwr',\n",
       " 'bmzivx',\n",
       " '6efd2k',\n",
       " 'm98m4q',\n",
       " '458vhd']"
      ]
     },
     "execution_count": 11,
     "metadata": {},
     "output_type": "execute_result"
    }
   ],
   "source": [
    "scripts = random.sample(get_file_names(), 40)\n",
    "scripts\n"
   ]
  },
  {
   "cell_type": "code",
   "execution_count": 13,
   "metadata": {},
   "outputs": [],
   "source": [
    "for name in scripts:\n",
    "    file_path = '../videos/scripts/' + name + '.txt'\n",
    "    if not os.path.exists('../videos/scriptsv2/' + name + '.txt'):\n",
    "        script_write(name, script_path='../videos/scriptsv2/', model_name='gpt-4-1106-preview') "
   ]
  },
  {
   "cell_type": "code",
   "execution_count": null,
   "metadata": {},
   "outputs": [],
   "source": []
  }
 ],
 "metadata": {
  "kernelspec": {
   "display_name": "congentGen38",
   "language": "python",
   "name": "python3"
  },
  "language_info": {
   "codemirror_mode": {
    "name": "ipython",
    "version": 3
   },
   "file_extension": ".py",
   "mimetype": "text/x-python",
   "name": "python",
   "nbconvert_exporter": "python",
   "pygments_lexer": "ipython3",
   "version": "3.8.18"
  }
 },
 "nbformat": 4,
 "nbformat_minor": 2
}
