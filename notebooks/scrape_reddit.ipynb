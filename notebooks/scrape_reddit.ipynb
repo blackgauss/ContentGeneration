{
 "cells": [
  {
   "cell_type": "code",
   "execution_count": 4,
   "metadata": {},
   "outputs": [],
   "source": [
    "import json\n",
    "import praw\n",
    "from bs4 import BeautifulSoup as bs\n",
    "import youtube_dl\n",
    "import os\n",
    "import datetime\n",
    "from gtts import gTTS \n",
    "import moviepy as mpy\n",
    "from openai import OpenAI\n",
    "from dotenv import load_dotenv\n",
    "load_dotenv()\n",
    "\n",
    "\n",
    "APP_NAME = os.getenv(\"APP_NAME\")\n",
    "APP_ID = os.getenv(\"APP_ID\")\n",
    "APP_SECRET = os.getenv(\"APP_SECRET\")\n",
    "SUBREDDIT = os.getenv(\"SUBREDDIT\")"
   ]
  },
  {
   "cell_type": "code",
   "execution_count": 6,
   "metadata": {},
   "outputs": [],
   "source": [
    "reddit = praw.Reddit(\n",
    "    client_id= APP_ID,\n",
    "    client_secret= APP_SECRET,\n",
    "    user_agent=f\"Window11:TestApp:v0.1 by {APP_NAME}\",\n",
    ")\n",
    "subreddit = reddit.subreddit(SUBREDDIT)"
   ]
  },
  {
   "cell_type": "code",
   "execution_count": 74,
   "metadata": {},
   "outputs": [],
   "source": [
    "def scrape_posts(NUM_COMMENTS=3, NUM_POSTS=25, MIN_WORDS=300):\n",
    "\n",
    "    posts = []\n",
    "\n",
    "    for submission in subreddit.top('all', limit=NUM_POSTS):\n",
    "        try:\n",
    "            submission.comments[NUM_COMMENTS - 1]\n",
    "            score = submission.score\n",
    "            # Post Information\n",
    "            url = submission.url\n",
    "            id = submission.id\n",
    "\n",
    "            # Data\n",
    "            question = submission.title\n",
    "            context = submission.selftext\n",
    "            url = submission.url\n",
    "\n",
    "            comments = []\n",
    "            comment_authors = []\n",
    "            # Comments\n",
    "            if submission.comments != None:\n",
    "                idx = 0\n",
    "                for comment in submission.comments:\n",
    "                    try:\n",
    "                        comment_text = comment.body\n",
    "                        if len(comment_text) >= 5 * MIN_WORDS:\n",
    "                            idx += 1\n",
    "                            comment_author = comment.author.name\n",
    "                            comment_url = comment.permalink\n",
    "                            comment_text = comment.body\n",
    "                            comments.append(comment_text)\n",
    "                            comment_authors.append([comment_author, comment_url])\n",
    "                    except:\n",
    "                        pass\n",
    "                    if idx == NUM_COMMENTS:\n",
    "                            break\n",
    "            if len(comments) > 0:\n",
    "                posts.append([id, url, question, context, comments, comment_authors])\n",
    "        except:\n",
    "            continue\n",
    "    return posts\n",
    "\n",
    "    \n",
    "def save_data(data):\n",
    "    with open(\"../videos/subreddits/AskScience/data_new.json\", \"w\") as f:\n",
    "        json.dump(data, f)"
   ]
  },
  {
   "cell_type": "code",
   "execution_count": 76,
   "metadata": {},
   "outputs": [],
   "source": [
    "data = scrape_posts(NUM_COMMENTS=3, NUM_POSTS=300)\n",
    "save_data(data)"
   ]
  }
 ],
 "metadata": {
  "kernelspec": {
   "display_name": "congentGen38",
   "language": "python",
   "name": "python3"
  },
  "language_info": {
   "codemirror_mode": {
    "name": "ipython",
    "version": 3
   },
   "file_extension": ".py",
   "mimetype": "text/x-python",
   "name": "python",
   "nbconvert_exporter": "python",
   "pygments_lexer": "ipython3",
   "version": "3.8.18"
  }
 },
 "nbformat": 4,
 "nbformat_minor": 2
}
