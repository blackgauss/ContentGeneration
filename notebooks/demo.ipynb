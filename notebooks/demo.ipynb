{
 "cells": [
  {
   "cell_type": "code",
   "execution_count": 1,
   "metadata": {},
   "outputs": [
    {
     "name": "stdout",
     "output_type": "stream",
     "text": [
      "Importing the dtw module. When using in academic works please cite:\n",
      "  T. Giorgino. Computing and Visualizing Dynamic Time Warping Alignments in R: The dtw Package.\n",
      "  J. Stat. Soft., doi:10.18637/jss.v031.i07.\n",
      "\n"
     ]
    },
    {
     "data": {
      "text/plain": [
       "True"
      ]
     },
     "execution_count": 1,
     "metadata": {},
     "output_type": "execute_result"
    }
   ],
   "source": [
    "import sys\n",
    "sys.path.insert(0, '../ContentGeneration')\n",
    "\n",
    "import reddit\n",
    "import shorts\n",
    "import captions\n",
    "import videoscript\n",
    " \n",
    "import json\n",
    "import os\n",
    "from dotenv import load_dotenv\n",
    "load_dotenv()"
   ]
  },
  {
   "cell_type": "code",
   "execution_count": 2,
   "metadata": {},
   "outputs": [],
   "source": [
    "MUSIC_PATH = os.getenv(\"MUSIC_PATH\")\n",
    "VOICEOVER_PATH = os.getenv(\"VOICEOVER_PATH\")\n",
    "CLIPS_FOLDER = os.getenv(\"CLIPS_DIR\")\n",
    "WATER_MARK_PATH = os.getenv(\"WATER_MARK_PATH\")\n",
    "ENDCARD_PATH = os.getenv(\"ENDCARD_PATH\")\n",
    "SAVE_PATH = os.getenv(\"SAVE_PATH\")"
   ]
  },
  {
   "cell_type": "code",
   "execution_count": 3,
   "metadata": {},
   "outputs": [
    {
     "name": "stderr",
     "output_type": "stream",
     "text": [
      "100%|██████████| 5590/5590 [00:18<00:00, 294.24frames/s]\n"
     ]
    }
   ],
   "source": [
    "[audio, dur] = shorts.get_voiceover(VOICEOVER_PATH, MUSIC_PATH)\n",
    "new_vid = shorts.make_video(dur, CLIPS_FOLDER, 10)\n",
    "final_vid = new_vid.set_audio(audio)\n",
    "transcription = captions.make_transcription(VOICEOVER_PATH)\n",
    "subtitles = captions.make_timestamps(transcription)\n",
    "withcaptions = captions.overlay_video(final_vid, subtitles, WATER_MARK_PATH, ENDCARD_PATH, colored=True, animate=True, font_name='AvenirNext-Bold')"
   ]
  },
  {
   "cell_type": "code",
   "execution_count": 4,
   "metadata": {},
   "outputs": [],
   "source": [
    "withcaptions = captions.overlay_video(final_vid, subtitles, WATER_MARK_PATH, ENDCARD_PATH, colored=True, animate=True, font_name='AvenirNext-Bold')"
   ]
  },
  {
   "cell_type": "code",
   "execution_count": 5,
   "metadata": {},
   "outputs": [
    {
     "name": "stdout",
     "output_type": "stream",
     "text": [
      "Moviepy - Building video c:\\Users\\eimat\\Documents\\PassiveIncome\\ModernEncyclopedia\\Videos\\Videos\\test2.mp4.\n",
      "MoviePy - Writing audio in test2TEMP_MPY_wvf_snd.mp4\n"
     ]
    },
    {
     "name": "stderr",
     "output_type": "stream",
     "text": [
      "chunk:   0%|          | 0/1278 [00:00<?, ?it/s, now=None]"
     ]
    },
    {
     "name": "stderr",
     "output_type": "stream",
     "text": [
      "                                                                     \r"
     ]
    },
    {
     "name": "stdout",
     "output_type": "stream",
     "text": [
      "MoviePy - Done.\n",
      "Moviepy - Writing video c:\\Users\\eimat\\Documents\\PassiveIncome\\ModernEncyclopedia\\Videos\\Videos\\test2.mp4\n",
      "\n"
     ]
    },
    {
     "name": "stderr",
     "output_type": "stream",
     "text": [
      "                                                                \r"
     ]
    },
    {
     "name": "stdout",
     "output_type": "stream",
     "text": [
      "Moviepy - Done !\n",
      "Moviepy - video ready c:\\Users\\eimat\\Documents\\PassiveIncome\\ModernEncyclopedia\\Videos\\Videos\\test2.mp4\n"
     ]
    }
   ],
   "source": [
    "withcaptions.write_videofile(SAVE_PATH + '\\\\test2.mp4', audio_codec= 'aac', threads = 8, fps=30)"
   ]
  }
 ],
 "metadata": {
  "kernelspec": {
   "display_name": "ContentGeneration",
   "language": "python",
   "name": "python3"
  },
  "language_info": {
   "codemirror_mode": {
    "name": "ipython",
    "version": 3
   },
   "file_extension": ".py",
   "mimetype": "text/x-python",
   "name": "python",
   "nbconvert_exporter": "python",
   "pygments_lexer": "ipython3",
   "version": "3.8.18"
  }
 },
 "nbformat": 4,
 "nbformat_minor": 2
}
